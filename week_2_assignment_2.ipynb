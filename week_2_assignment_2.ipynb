{
 "cells": [
  {
   "cell_type": "markdown",
   "metadata": {},
   "source": [
    "**Miguel Ramirez**\n",
    "\n",
    "**Week 2 Assignment**\n",
    "\n",
    "**Professor Cohen**\n",
    "\n",
    "<u>Data Acquisition and Management</u>\n",
    "\n",
    "\n",
    "# Difficulties of Using Regular Expressions in Python (with Examples and Output)\n",
    "## While regular expressions are a powerful tool for pattern matching in Python, they can also present certain challenges:\n",
    "### 1. Complexity and Readability:\n",
    "Example: A complex regular expression to validate email addresses might be difficult to understand and maintain:"
   ]
  },
  {
   "cell_type": "code",
   "execution_count": 38,
   "metadata": {},
   "outputs": [
    {
     "name": "stdout",
     "output_type": "stream",
     "text": [
      "Valid email address\n"
     ]
    }
   ],
   "source": [
    "import re\n",
    "\n",
    "email_regex = r\"^[a-zA-Z0-9._-]+@[a-zA-Z0-9._-]+\\.[a-zA-Z0-9]+$\"\n",
    "\n",
    "email_address = \"john.doe@example.com\"\n",
    "if re.match(email_regex, email_address):\n",
    "    print(\"Valid email address\")\n",
    "else:\n",
    "    print(\"Invalid email address\")"
   ]
  },
  {
   "cell_type": "markdown",
   "metadata": {},
   "source": [
    "Solution: Break down complex expressions into smaller, more readable parts:"
   ]
  },
  {
   "cell_type": "code",
   "execution_count": 40,
   "metadata": {},
   "outputs": [
    {
     "name": "stdout",
     "output_type": "stream",
     "text": [
      "Valid email address\n"
     ]
    }
   ],
   "source": [
    "import re\n",
    "\n",
    "username_regex = r\"^[a-zA-Z0-9._-]+\"\n",
    "domain_regex = r\"[a-zA-Z0-9._-]+\\.[a-zA-Z0-9]+\"\n",
    "email_regex = rf\"{username_regex}@{domain_regex}$\"\n",
    "\n",
    "email_address = \"john.doe@example.com\"\n",
    "if re.match(email_regex, email_address):\n",
    "    print(\"Valid email address\")\n",
    "else:\n",
    "    print(\"Invalid email address\")\n"
   ]
  },
  {
   "cell_type": "markdown",
   "metadata": {},
   "source": [
    "### 2. Performance Overhead:\n",
    "Example: A regular expression with excessive backtracking can significantly impact performance:"
   ]
  },
  {
   "cell_type": "code",
   "execution_count": 45,
   "metadata": {},
   "outputs": [
    {
     "name": "stdout",
     "output_type": "stream",
     "text": [
      "Match found\n"
     ]
    }
   ],
   "source": [
    "import re\n",
    "\n",
    "pattern = r\"a*b*c*\"\n",
    "text = \"abc\"\n",
    "\n",
    "match = re.search(pattern, text)\n",
    "if match:\n",
    "    print(\"Match found\")\n",
    "else:\n",
    "    print(\"No match found\")"
   ]
  },
  {
   "cell_type": "markdown",
   "metadata": {},
   "source": [
    "Solution: Optimize the regular expression to avoid unnecessary backtracking:"
   ]
  },
  {
   "cell_type": "code",
   "execution_count": 46,
   "metadata": {},
   "outputs": [
    {
     "name": "stdout",
     "output_type": "stream",
     "text": [
      "Match found\n"
     ]
    }
   ],
   "source": [
    "import re\n",
    "\n",
    "pattern = r\"a+?b+?c+?\"\n",
    "text = \"abc\"\n",
    "\n",
    "match = re.search(pattern, text)\n",
    "if match:\n",
    "    print(\"Match found\")\n",
    "else:\n",
    "    print(\"No match found\")"
   ]
  },
  {
   "cell_type": "markdown",
   "metadata": {},
   "source": [
    "### 3. Ambiguity and Edge Cases:\n",
    "Example: Let's compare the results of the two pieces of code and explain any potential error in the second one.\n",
    "Pattern: r\"\\d+\" matches one or more digits in the string. In the text \"001423\", this regex will match the entire string of digits, including any leading zeros.:"
   ]
  },
  {
   "cell_type": "code",
   "execution_count": 50,
   "metadata": {},
   "outputs": [
    {
     "name": "stdout",
     "output_type": "stream",
     "text": [
      "Match found: 001423\n"
     ]
    }
   ],
   "source": [
    "import re\n",
    "\n",
    "pattern = r\"\\d+\"\n",
    "text = \"001423\"\n",
    "\n",
    "match = re.search(pattern, text)\n",
    "if match:\n",
    "    print(\"Match found:\", match.group())\n",
    "else:\n",
    "    print(\"No match found\")\n"
   ]
  },
  {
   "cell_type": "markdown",
   "metadata": {},
   "source": [
    "### Code 2 (Second Example):\n",
    "Solution: Use appropriate anchors or negative lookbehinds to handle specific cases. Pattern: r\"^(?!0)\\d+$\" is designed to match a string of digits (\\d+) but not if the string starts with a 0 (due to the ^(?!0) part, which is a negative lookahead asserting that the string does not start with a zero).\n",
    "Text: The string \"00123\" starts with a zero, so the pattern won't match this string.:"
   ]
  },
  {
   "cell_type": "code",
   "execution_count": 52,
   "metadata": {},
   "outputs": [
    {
     "name": "stdout",
     "output_type": "stream",
     "text": [
      "No match found\n"
     ]
    }
   ],
   "source": [
    "import re\n",
    "\n",
    "pattern = r\"^(?!0)\\d+$\"\n",
    "text = \"00123\"\n",
    "\n",
    "match = re.search(pattern, text)\n",
    "if match:\n",
    "    print(\"Match found:\", match.group())\n",
    "else:\n",
    "    print(\"No match found\")"
   ]
  },
  {
   "cell_type": "markdown",
   "metadata": {},
   "source": [
    "## Error Explanation in Code 2:\n",
    "The potential \"error\" is not exactly a code error, but rather the mismatch between the pattern and the data. The pattern r\"^(?!0)\\d+$\" is designed to reject any string that starts with a zero. So in your example, the string \"00123\" starts with 0, and the regular expression correctly fails to find a match because of the negative lookahead (?!0).\n",
    "\n",
    "### Summary of Differences:\n",
    "First Code (r\"\\d+\"):\n",
    "\n",
    "This pattern matches any sequence of digits, including those starting with 0.\n",
    "It finds a match in the string \"001423\" because the pattern allows leading zeros.\n",
    "Second Code (r\"^(?!0)\\d+$):\n",
    "\n",
    "This pattern explicitly disallows strings that start with a 0 and matches only sequences of digits that do not start with 0.\n",
    "In the case of \"00123\", no match is found because it starts with a 0.\n",
    "\n",
    "### Solution:\n",
    "If you want to match numbers that don't start with 0, but still allow other numbers, the second pattern is correct. However, if you want to match all sequences of digits, including those with leading zeros, the first pattern (r\"\\d+\") will be more appropriate."
   ]
  }
 ],
 "metadata": {
  "kernelspec": {
   "display_name": "Python 3",
   "language": "python",
   "name": "python3"
  },
  "language_info": {
   "codemirror_mode": {
    "name": "ipython",
    "version": 3
   },
   "file_extension": ".py",
   "mimetype": "text/x-python",
   "name": "python",
   "nbconvert_exporter": "python",
   "pygments_lexer": "ipython3",
   "version": "3.12.4"
  }
 },
 "nbformat": 4,
 "nbformat_minor": 2
}
