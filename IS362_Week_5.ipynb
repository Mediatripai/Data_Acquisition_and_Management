{
 "cells": [
  {
   "cell_type": "markdown",
   "metadata": {},
   "source": [
    "#### First list column names for use in code."
   ]
  },
  {
   "cell_type": "code",
   "execution_count": 87,
   "metadata": {},
   "outputs": [
    {
     "name": "stdout",
     "output_type": "stream",
     "text": [
      "Columns in the CSV file:\n",
      "['faa', 'name', 'lat', 'lon', 'alt', 'tz', 'dst', 'tzone']\n"
     ]
    }
   ],
   "source": [
    "import pandas as pd\n",
    "\n",
    "# Load your dataset into a DataFrame\n",
    "df = pd.read_csv('nycflights13/data-raw/airports.csv')  # Ensure correct path\n",
    "\n",
    "# List all the columns\n",
    "print(\"Columns in the CSV file:\")\n",
    "print(df.columns.tolist())"
   ]
  },
  {
   "cell_type": "markdown",
   "metadata": {},
   "source": [
    "## 1. What is the northernmost airport in the United States?"
   ]
  },
  {
   "cell_type": "code",
   "execution_count": 88,
   "metadata": {},
   "outputs": [
    {
     "name": "stdout",
     "output_type": "stream",
     "text": [
      "The easternmost airport in the United States is:\n",
      "    faa          name     lat      lon  alt  tz dst              tzone\n",
      "95  ADK  Adak Airport  51.878 -176.646   18  -9   A  America/Anchorage\n"
     ]
    },
    {
     "data": {
      "text/html": [
       "<div style=\"width:100%;\"><div style=\"position:relative;width:100%;height:0;padding-bottom:60%;\"><span style=\"color:#565656\">Make this Notebook Trusted to load map: File -> Trust Notebook</span><iframe srcdoc=\"&lt;!DOCTYPE html&gt;\n",
       "&lt;html&gt;\n",
       "&lt;head&gt;\n",
       "    \n",
       "    &lt;meta http-equiv=&quot;content-type&quot; content=&quot;text/html; charset=UTF-8&quot; /&gt;\n",
       "    \n",
       "        &lt;script&gt;\n",
       "            L_NO_TOUCH = false;\n",
       "            L_DISABLE_3D = false;\n",
       "        &lt;/script&gt;\n",
       "    \n",
       "    &lt;style&gt;html, body {width: 100%;height: 100%;margin: 0;padding: 0;}&lt;/style&gt;\n",
       "    &lt;style&gt;#map {position:absolute;top:0;bottom:0;right:0;left:0;}&lt;/style&gt;\n",
       "    &lt;script src=&quot;https://cdn.jsdelivr.net/npm/leaflet@1.9.3/dist/leaflet.js&quot;&gt;&lt;/script&gt;\n",
       "    &lt;script src=&quot;https://code.jquery.com/jquery-3.7.1.min.js&quot;&gt;&lt;/script&gt;\n",
       "    &lt;script src=&quot;https://cdn.jsdelivr.net/npm/bootstrap@5.2.2/dist/js/bootstrap.bundle.min.js&quot;&gt;&lt;/script&gt;\n",
       "    &lt;script src=&quot;https://cdnjs.cloudflare.com/ajax/libs/Leaflet.awesome-markers/2.0.2/leaflet.awesome-markers.js&quot;&gt;&lt;/script&gt;\n",
       "    &lt;link rel=&quot;stylesheet&quot; href=&quot;https://cdn.jsdelivr.net/npm/leaflet@1.9.3/dist/leaflet.css&quot;/&gt;\n",
       "    &lt;link rel=&quot;stylesheet&quot; href=&quot;https://cdn.jsdelivr.net/npm/bootstrap@5.2.2/dist/css/bootstrap.min.css&quot;/&gt;\n",
       "    &lt;link rel=&quot;stylesheet&quot; href=&quot;https://netdna.bootstrapcdn.com/bootstrap/3.0.0/css/bootstrap-glyphicons.css&quot;/&gt;\n",
       "    &lt;link rel=&quot;stylesheet&quot; href=&quot;https://cdn.jsdelivr.net/npm/@fortawesome/fontawesome-free@6.2.0/css/all.min.css&quot;/&gt;\n",
       "    &lt;link rel=&quot;stylesheet&quot; href=&quot;https://cdnjs.cloudflare.com/ajax/libs/Leaflet.awesome-markers/2.0.2/leaflet.awesome-markers.css&quot;/&gt;\n",
       "    &lt;link rel=&quot;stylesheet&quot; href=&quot;https://cdn.jsdelivr.net/gh/python-visualization/folium/folium/templates/leaflet.awesome.rotate.min.css&quot;/&gt;\n",
       "    \n",
       "            &lt;meta name=&quot;viewport&quot; content=&quot;width=device-width,\n",
       "                initial-scale=1.0, maximum-scale=1.0, user-scalable=no&quot; /&gt;\n",
       "            &lt;style&gt;\n",
       "                #map_225474217681135ca318b9f653accce8 {\n",
       "                    position: relative;\n",
       "                    width: 100.0%;\n",
       "                    height: 100.0%;\n",
       "                    left: 0.0%;\n",
       "                    top: 0.0%;\n",
       "                }\n",
       "                .leaflet-container { font-size: 1rem; }\n",
       "            &lt;/style&gt;\n",
       "        \n",
       "&lt;/head&gt;\n",
       "&lt;body&gt;\n",
       "    \n",
       "    \n",
       "            &lt;div class=&quot;folium-map&quot; id=&quot;map_225474217681135ca318b9f653accce8&quot; &gt;&lt;/div&gt;\n",
       "        \n",
       "&lt;/body&gt;\n",
       "&lt;script&gt;\n",
       "    \n",
       "    \n",
       "            var map_225474217681135ca318b9f653accce8 = L.map(\n",
       "                &quot;map_225474217681135ca318b9f653accce8&quot;,\n",
       "                {\n",
       "                    center: [51.878, -176.646],\n",
       "                    crs: L.CRS.EPSG3857,\n",
       "                    zoom: 8,\n",
       "                    zoomControl: true,\n",
       "                    preferCanvas: false,\n",
       "                }\n",
       "            );\n",
       "\n",
       "            \n",
       "\n",
       "        \n",
       "    \n",
       "            var tile_layer_eec05d302bd8ed8cfd1e358694854dfa = L.tileLayer(\n",
       "                &quot;https://tile.openstreetmap.org/{z}/{x}/{y}.png&quot;,\n",
       "                {&quot;attribution&quot;: &quot;\\u0026copy; \\u003ca href=\\&quot;https://www.openstreetmap.org/copyright\\&quot;\\u003eOpenStreetMap\\u003c/a\\u003e contributors&quot;, &quot;detectRetina&quot;: false, &quot;maxNativeZoom&quot;: 19, &quot;maxZoom&quot;: 19, &quot;minZoom&quot;: 0, &quot;noWrap&quot;: false, &quot;opacity&quot;: 1, &quot;subdomains&quot;: &quot;abc&quot;, &quot;tms&quot;: false}\n",
       "            );\n",
       "        \n",
       "    \n",
       "            tile_layer_eec05d302bd8ed8cfd1e358694854dfa.addTo(map_225474217681135ca318b9f653accce8);\n",
       "        \n",
       "    \n",
       "            var marker_f0aee4265c4847db563fa8298c91dfaf = L.marker(\n",
       "                [51.878, -176.646],\n",
       "                {}\n",
       "            ).addTo(map_225474217681135ca318b9f653accce8);\n",
       "        \n",
       "    \n",
       "            var icon_29a310b0e5e52bb24cf0b01c4a418036 = L.AwesomeMarkers.icon(\n",
       "                {&quot;extraClasses&quot;: &quot;fa-rotate-0&quot;, &quot;icon&quot;: &quot;info-sign&quot;, &quot;iconColor&quot;: &quot;white&quot;, &quot;markerColor&quot;: &quot;blue&quot;, &quot;prefix&quot;: &quot;glyphicon&quot;}\n",
       "            );\n",
       "            marker_f0aee4265c4847db563fa8298c91dfaf.setIcon(icon_29a310b0e5e52bb24cf0b01c4a418036);\n",
       "        \n",
       "    \n",
       "        var popup_ee5fbec68cc39863f478dbff79bc7c5e = L.popup({&quot;maxWidth&quot;: &quot;100%&quot;});\n",
       "\n",
       "        \n",
       "            \n",
       "                var html_e5497ade05b08246fa80b822d212ff7f = $(`&lt;div id=&quot;html_e5497ade05b08246fa80b822d212ff7f&quot; style=&quot;width: 100.0%; height: 100.0%;&quot;&gt;Adak Airport&lt;/div&gt;`)[0];\n",
       "                popup_ee5fbec68cc39863f478dbff79bc7c5e.setContent(html_e5497ade05b08246fa80b822d212ff7f);\n",
       "            \n",
       "        \n",
       "\n",
       "        marker_f0aee4265c4847db563fa8298c91dfaf.bindPopup(popup_ee5fbec68cc39863f478dbff79bc7c5e)\n",
       "        ;\n",
       "\n",
       "        \n",
       "    \n",
       "    \n",
       "            tile_layer_eec05d302bd8ed8cfd1e358694854dfa.addTo(map_225474217681135ca318b9f653accce8);\n",
       "        \n",
       "&lt;/script&gt;\n",
       "&lt;/html&gt;\" style=\"position:absolute;width:100%;height:100%;left:0;top:0;border:none !important;\" allowfullscreen webkitallowfullscreen mozallowfullscreen></iframe></div></div>"
      ],
      "text/plain": [
       "<folium.folium.Map at 0x19e16fbb4d0>"
      ]
     },
     "execution_count": 88,
     "metadata": {},
     "output_type": "execute_result"
    }
   ],
   "source": [
    "import pandas as pd\n",
    "import folium\n",
    "\n",
    "# Load dataset into a DataFrame\n",
    "df = pd.read_csv('nycflights13/data-raw/airports.csv')  # Use forward slashes\n",
    "\n",
    "# Find the easternmost airport by sorting by longitude (ascending) and selecting the top entry\n",
    "easternmost_airport = df.sort_values(by='lon', ascending=True).head(1)\n",
    "\n",
    "# Print the easternmost airport information\n",
    "print(\"The easternmost airport in the United States is:\")\n",
    "print(easternmost_airport[['faa', 'name', 'lat', 'lon', 'alt', 'tz', 'dst', 'tzone']])\n",
    "\n",
    "# Create a map centered around the easternmost airport\n",
    "easternmost_lat = easternmost_airport['lat'].values[0]\n",
    "easternmost_lon = easternmost_airport['lon'].values[0]\n",
    "airport_name = easternmost_airport['name'].values[0]\n",
    "\n",
    "# Initialize the map\n",
    "airport_map = folium.Map(location=[easternmost_lat, easternmost_lon], zoom_start=8)\n",
    "\n",
    "# Add a marker for the easternmost airport\n",
    "folium.Marker(\n",
    "    location=[easternmost_lat, easternmost_lon],\n",
    "    popup=airport_name,\n",
    "    icon=folium.Icon(color='blue')\n",
    ").add_to(airport_map)\n",
    "\n",
    "# Save the map to an HTML file\n",
    "airport_map.save('easternmost_airport_map.html')\n",
    "\n",
    "# Display map \n",
    "airport_map\n"
   ]
  },
  {
   "cell_type": "markdown",
   "metadata": {},
   "source": [
    "## 2. What is the easternmost airport in the United States?"
   ]
  },
  {
   "cell_type": "code",
   "execution_count": 77,
   "metadata": {},
   "outputs": [
    {
     "name": "stdout",
     "output_type": "stream",
     "text": [
      "The northernmost airport in the United States is:\n",
      "     faa                     name        lat        lon  alt  tz dst tzone\n",
      "417  EEN  Dillant Hopkins Airport  72.270833  42.898333  149  -5   A   NaN\n"
     ]
    },
    {
     "data": {
      "text/html": [
       "<div style=\"width:100%;\"><div style=\"position:relative;width:100%;height:0;padding-bottom:60%;\"><span style=\"color:#565656\">Make this Notebook Trusted to load map: File -> Trust Notebook</span><iframe srcdoc=\"&lt;!DOCTYPE html&gt;\n",
       "&lt;html&gt;\n",
       "&lt;head&gt;\n",
       "    \n",
       "    &lt;meta http-equiv=&quot;content-type&quot; content=&quot;text/html; charset=UTF-8&quot; /&gt;\n",
       "    \n",
       "        &lt;script&gt;\n",
       "            L_NO_TOUCH = false;\n",
       "            L_DISABLE_3D = false;\n",
       "        &lt;/script&gt;\n",
       "    \n",
       "    &lt;style&gt;html, body {width: 100%;height: 100%;margin: 0;padding: 0;}&lt;/style&gt;\n",
       "    &lt;style&gt;#map {position:absolute;top:0;bottom:0;right:0;left:0;}&lt;/style&gt;\n",
       "    &lt;script src=&quot;https://cdn.jsdelivr.net/npm/leaflet@1.9.3/dist/leaflet.js&quot;&gt;&lt;/script&gt;\n",
       "    &lt;script src=&quot;https://code.jquery.com/jquery-3.7.1.min.js&quot;&gt;&lt;/script&gt;\n",
       "    &lt;script src=&quot;https://cdn.jsdelivr.net/npm/bootstrap@5.2.2/dist/js/bootstrap.bundle.min.js&quot;&gt;&lt;/script&gt;\n",
       "    &lt;script src=&quot;https://cdnjs.cloudflare.com/ajax/libs/Leaflet.awesome-markers/2.0.2/leaflet.awesome-markers.js&quot;&gt;&lt;/script&gt;\n",
       "    &lt;link rel=&quot;stylesheet&quot; href=&quot;https://cdn.jsdelivr.net/npm/leaflet@1.9.3/dist/leaflet.css&quot;/&gt;\n",
       "    &lt;link rel=&quot;stylesheet&quot; href=&quot;https://cdn.jsdelivr.net/npm/bootstrap@5.2.2/dist/css/bootstrap.min.css&quot;/&gt;\n",
       "    &lt;link rel=&quot;stylesheet&quot; href=&quot;https://netdna.bootstrapcdn.com/bootstrap/3.0.0/css/bootstrap-glyphicons.css&quot;/&gt;\n",
       "    &lt;link rel=&quot;stylesheet&quot; href=&quot;https://cdn.jsdelivr.net/npm/@fortawesome/fontawesome-free@6.2.0/css/all.min.css&quot;/&gt;\n",
       "    &lt;link rel=&quot;stylesheet&quot; href=&quot;https://cdnjs.cloudflare.com/ajax/libs/Leaflet.awesome-markers/2.0.2/leaflet.awesome-markers.css&quot;/&gt;\n",
       "    &lt;link rel=&quot;stylesheet&quot; href=&quot;https://cdn.jsdelivr.net/gh/python-visualization/folium/folium/templates/leaflet.awesome.rotate.min.css&quot;/&gt;\n",
       "    \n",
       "            &lt;meta name=&quot;viewport&quot; content=&quot;width=device-width,\n",
       "                initial-scale=1.0, maximum-scale=1.0, user-scalable=no&quot; /&gt;\n",
       "            &lt;style&gt;\n",
       "                #map_1873eac56b892432fd27f46b4354a6b2 {\n",
       "                    position: relative;\n",
       "                    width: 100.0%;\n",
       "                    height: 100.0%;\n",
       "                    left: 0.0%;\n",
       "                    top: 0.0%;\n",
       "                }\n",
       "                .leaflet-container { font-size: 1rem; }\n",
       "            &lt;/style&gt;\n",
       "        \n",
       "&lt;/head&gt;\n",
       "&lt;body&gt;\n",
       "    \n",
       "    \n",
       "            &lt;div class=&quot;folium-map&quot; id=&quot;map_1873eac56b892432fd27f46b4354a6b2&quot; &gt;&lt;/div&gt;\n",
       "        \n",
       "&lt;/body&gt;\n",
       "&lt;script&gt;\n",
       "    \n",
       "    \n",
       "            var map_1873eac56b892432fd27f46b4354a6b2 = L.map(\n",
       "                &quot;map_1873eac56b892432fd27f46b4354a6b2&quot;,\n",
       "                {\n",
       "                    center: [42.898333, -72.270833],\n",
       "                    crs: L.CRS.EPSG3857,\n",
       "                    zoom: 8,\n",
       "                    zoomControl: true,\n",
       "                    preferCanvas: false,\n",
       "                }\n",
       "            );\n",
       "\n",
       "            \n",
       "\n",
       "        \n",
       "    \n",
       "            var tile_layer_51b01c796ad884240408c5bb9400fb9a = L.tileLayer(\n",
       "                &quot;https://tile.openstreetmap.org/{z}/{x}/{y}.png&quot;,\n",
       "                {&quot;attribution&quot;: &quot;\\u0026copy; \\u003ca href=\\&quot;https://www.openstreetmap.org/copyright\\&quot;\\u003eOpenStreetMap\\u003c/a\\u003e contributors&quot;, &quot;detectRetina&quot;: false, &quot;maxNativeZoom&quot;: 19, &quot;maxZoom&quot;: 19, &quot;minZoom&quot;: 0, &quot;noWrap&quot;: false, &quot;opacity&quot;: 1, &quot;subdomains&quot;: &quot;abc&quot;, &quot;tms&quot;: false}\n",
       "            );\n",
       "        \n",
       "    \n",
       "            tile_layer_51b01c796ad884240408c5bb9400fb9a.addTo(map_1873eac56b892432fd27f46b4354a6b2);\n",
       "        \n",
       "    \n",
       "            var marker_e46a7e04f4e7ebd07de3fe5e258a56c3 = L.marker(\n",
       "                [42.898333, -72.270833],\n",
       "                {}\n",
       "            ).addTo(map_1873eac56b892432fd27f46b4354a6b2);\n",
       "        \n",
       "    \n",
       "            var icon_1d1a9e610c770ee27e67c3f5bdfe56f1 = L.AwesomeMarkers.icon(\n",
       "                {&quot;extraClasses&quot;: &quot;fa-rotate-0&quot;, &quot;icon&quot;: &quot;info-sign&quot;, &quot;iconColor&quot;: &quot;white&quot;, &quot;markerColor&quot;: &quot;blue&quot;, &quot;prefix&quot;: &quot;glyphicon&quot;}\n",
       "            );\n",
       "            marker_e46a7e04f4e7ebd07de3fe5e258a56c3.setIcon(icon_1d1a9e610c770ee27e67c3f5bdfe56f1);\n",
       "        \n",
       "    \n",
       "        var popup_e68c7f6bb30447e5d067aeeae3ddeffa = L.popup({&quot;maxWidth&quot;: &quot;100%&quot;});\n",
       "\n",
       "        \n",
       "            \n",
       "                var html_c30af953ceb78712f87bff09ebbe6b38 = $(`&lt;div id=&quot;html_c30af953ceb78712f87bff09ebbe6b38&quot; style=&quot;width: 100.0%; height: 100.0%;&quot;&gt;Dillant Hopkins Airport&lt;/div&gt;`)[0];\n",
       "                popup_e68c7f6bb30447e5d067aeeae3ddeffa.setContent(html_c30af953ceb78712f87bff09ebbe6b38);\n",
       "            \n",
       "        \n",
       "\n",
       "        marker_e46a7e04f4e7ebd07de3fe5e258a56c3.bindPopup(popup_e68c7f6bb30447e5d067aeeae3ddeffa)\n",
       "        ;\n",
       "\n",
       "        \n",
       "    \n",
       "    \n",
       "            tile_layer_51b01c796ad884240408c5bb9400fb9a.addTo(map_1873eac56b892432fd27f46b4354a6b2);\n",
       "        \n",
       "&lt;/script&gt;\n",
       "&lt;/html&gt;\" style=\"position:absolute;width:100%;height:100%;left:0;top:0;border:none !important;\" allowfullscreen webkitallowfullscreen mozallowfullscreen></iframe></div></div>"
      ],
      "text/plain": [
       "<folium.folium.Map at 0x19e1a0fb320>"
      ]
     },
     "execution_count": 77,
     "metadata": {},
     "output_type": "execute_result"
    }
   ],
   "source": [
    "import pandas as pd\n",
    "import folium\n",
    "\n",
    "# Load your dataset into a DataFrame\n",
    "df = pd.read_csv('nycflights13/data-raw/airports.csv')  # Use forward slashes\n",
    "\n",
    "# Find the northernmost airport by sorting by latitude (descending) and selecting the top entry\n",
    "northernmost_airport = df.sort_values(by='lat', ascending=False).head(1)\n",
    "\n",
    "# Print the northernmost airport information\n",
    "print(\"The northernmost airport in the United States is:\")\n",
    "print(northernmost_airport[['faa', 'name', 'lat', 'lon', 'alt', 'tz', 'dst', 'tzone']])\n",
    "\n",
    "# Initialize the coordinates for the marker, swapping lat and lon\n",
    "northernmost_lon = -abs(northernmost_airport['lat'].values[0])  # Add negative sign to the latitude with -absolute value\n",
    "northernmost_lat = northernmost_airport['lon'].values[0]  # Use longitude for latitude\n",
    "airport_name = northernmost_airport['name'].values[0]\n",
    "\n",
    "# Initialize the map\n",
    "airport_map = folium.Map(location=[northernmost_lat, northernmost_lon], zoom_start=8)\n",
    "\n",
    "# Add a marker for the northernmost airport\n",
    "folium.Marker(\n",
    "    location=[northernmost_lat, northernmost_lon],\n",
    "    popup=airport_name,\n",
    "    icon=folium.Icon(color='blue')\n",
    ").add_to(airport_map)\n",
    "\n",
    "# Save the map to an HTML file\n",
    "airport_map.save('northernmost_airport_map.html')\n",
    "\n",
    "# Display map\n",
    "airport_map\n"
   ]
  },
  {
   "cell_type": "markdown",
   "metadata": {},
   "source": [
    "#### 1. Check the Actual Column Names\n",
    "##### Print the column names of the DataFrame to check for any differences:"
   ]
  },
  {
   "cell_type": "code",
   "execution_count": 91,
   "metadata": {},
   "outputs": [
    {
     "name": "stdout",
     "output_type": "stream",
     "text": [
      "Columns in the CSV file:\n",
      "['origin', 'year', 'month', 'day', 'hour', 'temp', 'dewp', 'humid', 'wind_dir', 'wind_speed', 'wind_gust', 'precip', 'pressure', 'visib', 'time_hour']\n"
     ]
    }
   ],
   "source": [
    "import pandas as pd\n",
    "\n",
    "# Load the CSV file into a DataFrame\n",
    "df = pd.read_csv('nycflights13/data-raw/weather.csv')\n",
    "\n",
    "# List all the columns\n",
    "print(\"Columns in the CSV file:\")\n",
    "print(df.columns.tolist())"
   ]
  },
  {
   "cell_type": "markdown",
   "metadata": {},
   "source": [
    "#### "
   ]
  },
  {
   "cell_type": "markdown",
   "metadata": {},
   "source": [
    "<h5>The following code provides a clear way to visualize wind direction data from NY area airports on February 12, 2013 using a stacked bar chart. It includes essential data cleaning steps and informative messages commentation, ensuring that the reader is aware of any issues with the dataset. The visual output effectively communicates the distribution of wind directions across different airports.<h5>"
   ]
  },
  {
   "cell_type": "code",
   "execution_count": 92,
   "metadata": {},
   "outputs": [
    {
     "name": "stderr",
     "output_type": "stream",
     "text": [
      "C:\\Users\\MLuca\\AppData\\Local\\Temp\\ipykernel_23928\\1528115205.py:14: UserWarning: Could not infer format, so each element will be parsed individually, falling back to `dateutil`. To ensure parsing is consistent and as-expected, please specify a format.\n",
      "  df['time_hour'] = pd.to_datetime(df['time_hour'], errors='coerce')\n"
     ]
    },
    {
     "name": "stdout",
     "output_type": "stream",
     "text": [
      "Warning: Some dates could not be parsed correctly.\n"
     ]
    },
    {
     "data": {
      "image/png": "[encoded data removed]",
      "text/plain": [
       "<Figure size 1200x600 with 1 Axes>"
      ]
     },
     "metadata": {},
     "output_type": "display_data"
    }
   ],
   "source": [
    "import pandas as pd\n",
    "import matplotlib.pyplot as plt\n",
    "\n",
    "# List of column names\n",
    "column_names = ['origin', 'year', 'month', 'day', 'hour', 'temp', 'dewp', 'humid',\n",
    "                'wind_dir', 'wind_speed', 'wind_gust', 'precip', 'pressure', 'visib',\n",
    "                'time_hour']\n",
    "\n",
    "# Load the CSV file with specified column names\n",
    "file_path = 'nycflights13/data-raw/weather.csv'  # Ensure correct path\n",
    "df = pd.read_csv(file_path, names=column_names)\n",
    "\n",
    "# Convert 'time_hour' to datetime format\n",
    "df['time_hour'] = pd.to_datetime(df['time_hour'], errors='coerce')\n",
    "\n",
    "# Check for parsing issues\n",
    "if df['time_hour'].isnull().any():\n",
    "    print(\"Warning: Some dates could not be parsed correctly.\")\n",
    "\n",
    "# Filter the dataset for February 12th, 2013\n",
    "df_filtered = df[(df['time_hour'].dt.year == 2013) & (df['time_hour'].dt.month == 2) & (df['time_hour'].dt.day == 12)]\n",
    "\n",
    "# Check if there are any entries for this date\n",
    "if df_filtered.empty:\n",
    "    print(\"No data available for February 12th, 2013.\")\n",
    "else:\n",
    "    # Group by airport and wind direction, counting occurrences\n",
    "    wind_dir_counts = df_filtered.groupby(['origin', 'wind_dir']).size().unstack(fill_value=0)\n",
    "\n",
    "    # Plotting\n",
    "    plt.figure(figsize=(12, 6))\n",
    "    wind_dir_counts.plot(kind='bar', stacked=True, colormap='tab10', ax=plt.gca())\n",
    "\n",
    "    # Formatting the plot\n",
    "    plt.title('Wind Direction Counts for February 12th, 2013 by Airport')\n",
    "    plt.xlabel('Airport')\n",
    "    plt.ylabel('Counts of Wind Direction')\n",
    "    plt.xticks(rotation=45)\n",
    "    plt.legend(title='Wind Direction')\n",
    "    plt.tight_layout()  # Adjust layout to fit everything\n",
    "    plt.show()"
   ]
  },
  {
   "cell_type": "markdown",
   "metadata": {},
   "source": [
    " <h4> To remove all variables relating to the New Jersey Newark Liberty International Airport from the above chart, I needed to filter out all references to Newark's wind data, such as its variables and specific data manipulations. Below is a modified version of the script that excludes anything related to Newark Liberty International Airport, focusing only on LaGuardia and JFK Airports. Also, I replaced the bar chart with a scatter\n",
    " plot for clarity.<h4>"
   ]
  },
  {
   "cell_type": "code",
   "execution_count": 94,
   "metadata": {},
   "outputs": [
    {
     "data": {
      "image/png": "[encoded data removed]",
      "text/plain": [
       "<Figure size 1000x600 with 1 Axes>"
      ]
     },
     "metadata": {},
     "output_type": "display_data"
    }
   ],
   "source": [
    "import pandas as pd\n",
    "import matplotlib.pyplot as plt\n",
    "\n",
    "# Load the CSV file into a DataFrame\n",
    "file_path = 'nycflights13/data-raw/weather.csv'  # Update file path\n",
    "df = pd.read_csv(file_path)\n",
    "\n",
    "# Parse the 'time_hour' column as datetime\n",
    "df['time_hour'] = pd.to_datetime(df['time_hour'], errors='coerce')\n",
    "\n",
    "# Filter for February 12th, 2013 and relevant airports (excluding Newark)\n",
    "df_filtered = df[(df['time_hour'].dt.date == pd.to_datetime('2013-02-12').date()) &\n",
    "                  (df['origin'].isin(['JFK', 'LGA']))]  # Filter out Newark\n",
    "\n",
    "# Check if we have any data after filtering\n",
    "if df_filtered.empty:\n",
    "    print(\"No data available for February 12th, 2013 for JFK and LaGuardia Airports.\")\n",
    "else:\n",
    "    # Filter out unrealistic wind speeds (e.g., over 100 mph)\n",
    "    max_expected_speed = 100  # Example threshold\n",
    "    df_filtered = df_filtered[(df_filtered['wind_speed'] <= max_expected_speed) & \n",
    "                              (df_filtered['wind_gust'] <= max_expected_speed)]\n",
    "\n",
    "    # Check if we have any data after filtering\n",
    "    if df_filtered.empty:\n",
    "        print(\"No valid wind data available for JFK and LaGuardia Airports.\")\n",
    "    else:\n",
    "        # Prepare data for plotting\n",
    "        wind_data = df_filtered.groupby('origin').agg(\n",
    "            Max_Wind_Speed=('wind_speed', 'max'),\n",
    "            Max_Wind_Gust=('wind_gust', 'max')\n",
    "        ).reset_index()\n",
    "\n",
    "        # Plotting a scatter plot\n",
    "        plt.figure(figsize=(10, 6))\n",
    "        plt.scatter(wind_data['origin'], wind_data['Max_Wind_Speed'], color='blue', label='Max Wind Speed (mph)', s=100)\n",
    "        plt.scatter(wind_data['origin'], wind_data['Max_Wind_Gust'], color='orange', label='Max Wind Gust (mph)', s=100)\n",
    "\n",
    "        # Add text annotations for each point\n",
    "        for i, row in wind_data.iterrows():\n",
    "            plt.annotate(f\"{row['Max_Wind_Speed']}\", (row['origin'], row['Max_Wind_Speed']), \n",
    "                         textcoords=\"offset points\", xytext=(0,10), ha='center')\n",
    "            plt.annotate(f\"{row['Max_Wind_Gust']}\", (row['origin'], row['Max_Wind_Gust']), \n",
    "                         textcoords=\"offset points\", xytext=(0,-15), ha='center')\n",
    "\n",
    "        # Formatting the plot\n",
    "        plt.title('Max Wind Speed and Gusts for JFK and LaGuardia Airports on February 12th, 2013')\n",
    "        plt.xlabel('Airport')\n",
    "        plt.ylabel('Wind Speed (mph)')\n",
    "        plt.legend()\n",
    "        plt.grid(True)\n",
    "        plt.show()"
   ]
  },
  {
   "cell_type": "code",
   "execution_count": 96,
   "metadata": {},
   "outputs": [
    {
     "name": "stdout",
     "output_type": "stream",
     "text": [
      "The windiest airports (JFK and LaGuardia) based on maximum wind speed and gust:\n",
      "  origin  wind_speed  wind_gust\n",
      "0    JFK    42.57886   66.74524\n",
      "1    LGA    40.27730   62.14212\n",
      "JFK was the windiest airport with a maximum wind speed of 42.57886 mph.\n",
      "JFK had the strongest wind gust at 66.74524 mph.\n"
     ]
    }
   ],
   "source": [
    "import pandas as pd\n",
    "\n",
    "# Load your dataset into a DataFrame (adjust the file path as needed)\n",
    "df = pd.read_csv('nycflights13/data-raw/weather.csv')\n",
    "\n",
    "# Convert 'time_hour' to datetime format\n",
    "df['time_hour'] = pd.to_datetime(df['time_hour'], errors='coerce')\n",
    "\n",
    "# Filter the dataset for February 12, 2013, and JFK and LaGuardia airports\n",
    "specific_date = '2013-02-12'\n",
    "df_filtered = df[(df['time_hour'].dt.date == pd.to_datetime(specific_date).date()) & \n",
    "                 (df['origin'].isin(['JFK', 'LGA']))]\n",
    "\n",
    "# Calculate the maximum wind speed and wind gust for each airport on that date\n",
    "windiest_airports = df_filtered.groupby('origin')[['wind_speed', 'wind_gust']].max().reset_index()\n",
    "\n",
    "# Print the results\n",
    "print(f\"The windiest airports (JFK and LaGuardia) on {specific_date} based on maximum wind speed and gust:\")\n",
    "print(windiest_airports)\n",
    "\n",
    "# Compare wind speeds between JFK and LaGuardia\n",
    "jfk_wind_speed = windiest_airports.loc[windiest_airports['origin'] == 'JFK', 'wind_speed'].values[0]\n",
    "lga_wind_speed = windiest_airports.loc[windiest_airports['origin'] == 'LGA', 'wind_speed'].values[0]\n",
    "\n",
    "jfk_wind_gust = windiest_airports.loc[windiest_airports['origin'] == 'JFK', 'wind_gust'].values[0]\n",
    "lga_wind_gust = windiest_airports.loc[windiest_airports['origin'] == 'LGA', 'wind_gust'].values[0]\n",
    "\n",
    "# Output the comparison results\n",
    "if jfk_wind_speed > lga_wind_speed:\n",
    "    print(f\"JFK was the windiest airport with a maximum wind speed of {jfk_wind_speed} mph.\")\n",
    "elif lga_wind_speed > jfk_wind_speed:\n",
    "    print(f\"LaGuardia (LGA) was the windiest airport with a maximum wind speed of {lga_wind_speed} mph.\")\n",
    "else:\n",
    "    print(f\"Both JFK and LaGuardia had the same maximum wind speed of {jfk_wind_speed} mph.\")\n",
    "\n",
    "if jfk_wind_gust > lga_wind_gust:\n",
    "    print(f\"JFK had the strongest wind gust at {jfk_wind_gust} mph.\")\n",
    "elif lga_wind_gust > jfk_wind_gust:\n",
    "    print(f\"LaGuardia (LGA) had the strongest wind gust at {lga_wind_gust} mph.\")\n",
    "else:\n",
    "    print(f\"Both JFK and LaGuardia had the same maximum wind gust of {jfk_wind_gust} mph.\")\n"
   ]
  },
  {
   "cell_type": "markdown",
   "metadata": {},
   "source": []
  }
 ],
 "metadata": {
  "kernelspec": {
   "display_name": "Python 3",
   "language": "python",
   "name": "python3"
  },
  "language_info": {
   "codemirror_mode": {
    "name": "ipython",
    "version": 3
   },
   "file_extension": ".py",
   "mimetype": "text/x-python",
   "name": "python",
   "nbconvert_exporter": "python",
   "pygments_lexer": "ipython3",
   "version": "3.12.7"
  }
 },
 "nbformat": 4,
 "nbformat_minor": 2
}
