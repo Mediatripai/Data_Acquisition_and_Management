{
 "cells": [
  {
   "cell_type": "markdown",
   "metadata": {},
   "source": [
    "**Miguel Ramirez**\n",
    "\n",
    "**Week 2 Assignment**\n",
    "\n",
    "**Professor Cohen**\n",
    "\n",
    "<u>Data Acquisition and Management</u>\n",
    "\n",
    "\n",
    "# Difficulties of Using Regular Expressions in Python (with Examples and Output)\n",
    "## While regular expressions are a powerful tool for pattern matching in Python, they can also present certain challenges:\n",
    "### Complexity and Readability:\n",
    "Example 1: Basic Digit Matching (Including Leading Zeros)"
   ]
  },
  {
   "cell_type": "code",
   "execution_count": 2,
   "metadata": {},
   "outputs": [
    {
     "name": "stdout",
     "output_type": "stream",
     "text": [
      "Match found: 001423\n"
     ]
    }
   ],
   "source": [
    "import re\n",
    "\n",
    "pattern = r\"\\d+\"\n",
    "text = \"001423\"\n",
    "\n",
    "match = re.search(pattern, text)\n",
    "if match:\n",
    "    print(\"Match found:\", match.group())\n",
    "else:\n",
    "    print(\"No match found\")"
   ]
  },
  {
   "cell_type": "markdown",
   "metadata": {},
   "source": [
    "Explanation: \n",
    "\n",
    "Pattern: r\"\\d+\" matches one or more digits, including leading zeros.\n",
    "\n",
    "Text: \"001423\" matches the pattern.\n",
    "\n",
    "____________________________________________________________________________________________________________________________________________"
   ]
  },
  {
   "cell_type": "markdown",
   "metadata": {},
   "source": [
    "Example 2: Rejecting Leading Zeros in Numbers"
   ]
  },
  {
   "cell_type": "code",
   "execution_count": 7,
   "metadata": {},
   "outputs": [
    {
     "name": "stdout",
     "output_type": "stream",
     "text": [
      "No match found\n"
     ]
    }
   ],
   "source": [
    "import re\n",
    "\n",
    "pattern = r\"^(?!0)\\d+$\"\n",
    "text = \"00123\"\n",
    "\n",
    "match = re.search(pattern, text)\n",
    "if match:\n",
    "    print(\"Match found:\", match.group())\n",
    "else:\n",
    "    print(\"No match found\")"
   ]
  },
  {
   "cell_type": "markdown",
   "metadata": {},
   "source": [
    "Explanation: \n",
    "\n",
    "Pattern: ^(?!0)\\d+$ ensures the string of digits does **not** start with 0.\n",
    "\n",
    "Text: \"00123\" does not match since it starts with a zero.\n",
    "\n",
    "_________________________________________________________________________________________________________________________________________________________________________________________________________________________"
   ]
  },
  {
   "cell_type": "markdown",
   "metadata": {},
   "source": [
    "Example 3: Email Validation Using Regular Expressions\n",
    "\n",
    "Validating Email Addresses\n",
    "\n",
    "We will now use regular expressions to validate email addresses with both valid and invalid examples."
   ]
  },
  {
   "cell_type": "code",
   "execution_count": 6,
   "metadata": {},
   "outputs": [
    {
     "name": "stdout",
     "output_type": "stream",
     "text": [
      "Valid email address: miguel.ramirez29@spsmail.cuny.edu\n",
      "Invalid email address: miguel.ramirez@.edu\n"
     ]
    }
   ],
   "source": [
    "import re\n",
    "\n",
    "username_regex = r\"^[a-zA-Z0-9._-]+\"\n",
    "domain_regex = r\"[a-zA-Z0-9._-]+\\.[a-zA-Z]{2,}$\"\n",
    "email_regex = rf\"{username_regex}@{domain_regex}\"\n",
    "\n",
    "# Example of valid and invalid email addresses\n",
    "valid_email = \"miguel.ramirez29@spsmail.cuny.edu\"\n",
    "invalid_email = \"miguel.ramirez@.edu\"\n",
    "\n",
    "def validate_email(email):\n",
    "    if re.match(email_regex, email):\n",
    "        print(f\"Valid email address: {email}\")\n",
    "    else:\n",
    "        print(f\"Invalid email address: {email}\")\n",
    "\n",
    "# Test valid email\n",
    "validate_email(valid_email)\n",
    "\n",
    "# Test invalid email\n",
    "validate_email(invalid_email)"
   ]
  },
  {
   "cell_type": "markdown",
   "metadata": {},
   "source": [
    "Explanation:\n",
    "\n",
    "Username Regex: ^[a-zA-Z0-9._-]+ ensures that the username contains alphanumeric characters, dots, underscores, or hyphens.\n",
    "\n",
    "Domain Regex: [a-zA-Z0-9._-]+\\.[a-zA-Z]{2,}$ checks that the domain contains alphanumeric characters, followed by a dot (.), and then a valid top-level domain (at least 2 characters).\n",
    "\n",
    "Combining: rf\"{username_regex}@{domain_regex}\" combines the username and domain regex into a valid email pattern.\n",
    "\n",
    "______________________________________________________________________________________________________________________________________________________________________________________________________"
   ]
  },
  {
   "cell_type": "markdown",
   "metadata": {},
   "source": [
    "Example 4: Lazy Quantifiers with Specific Pattern Matching"
   ]
  },
  {
   "cell_type": "code",
   "execution_count": 8,
   "metadata": {},
   "outputs": [
    {
     "name": "stdout",
     "output_type": "stream",
     "text": [
      "Match found\n"
     ]
    }
   ],
   "source": [
    "import re\n",
    "\n",
    "pattern = r\"a+?b+?c+?\"\n",
    "text = \"abc\"\n",
    "\n",
    "match = re.search(pattern, text)\n",
    "if match:\n",
    "    print(\"Match found\")\n",
    "else:\n",
    "    print(\"No match found\")\n"
   ]
  },
  {
   "cell_type": "markdown",
   "metadata": {},
   "source": [
    "Explanation:\n",
    "\n",
    "Pattern: a+?b+?c+? uses lazy quantifiers, matching the minimal number of a, b, and c.\n",
    "\n",
    "Text: \"abc\" matches the pattern.\n",
    "\n",
    "___________________________________________________________________________________________________________________________________________________________________________"
   ]
  },
  {
   "cell_type": "markdown",
   "metadata": {},
   "source": [
    "## Comprehensive Example: Validating Email and Matching Numbers without Leading Zeros\n",
    "\n",
    "Finally, here’s a combined example that validates both an email and a number without leading zeros."
   ]
  },
  {
   "cell_type": "code",
   "execution_count": 9,
   "metadata": {},
   "outputs": [
    {
     "name": "stdout",
     "output_type": "stream",
     "text": [
      "Valid email: jane.doe@example.com\n",
      "Invalid email: jane.doe@.com\n",
      "Valid number: 12345\n",
      "Invalid number (no leading zeros allowed): 01234\n"
     ]
    }
   ],
   "source": [
    "import re\n",
    "\n",
    "# Email regex\n",
    "username_regex = r\"^[a-zA-Z0-9._-]+\"\n",
    "domain_regex = r\"[a-zA-Z0-9._-]+\\.[a-zA-Z]{2,}$\"\n",
    "email_regex = rf\"{username_regex}@{domain_regex}\"\n",
    "\n",
    "# Number regex (no leading zeros)\n",
    "number_regex = r\"^(?!0)\\d+$\"\n",
    "\n",
    "def validate_email(email):\n",
    "    if re.match(email_regex, email):\n",
    "        print(f\"Valid email: {email}\")\n",
    "    else:\n",
    "        print(f\"Invalid email: {email}\")\n",
    "\n",
    "def validate_number(number):\n",
    "    if re.match(number_regex, number):\n",
    "        print(f\"Valid number: {number}\")\n",
    "    else:\n",
    "        print(f\"Invalid number (no leading zeros allowed): {number}\")\n",
    "\n",
    "# Test emails\n",
    "valid_email = \"jane.doe@example.com\"\n",
    "invalid_email = \"jane.doe@.com\"\n",
    "validate_email(valid_email)\n",
    "validate_email(invalid_email)\n",
    "\n",
    "# Test numbers\n",
    "valid_number = \"12345\"\n",
    "invalid_number = \"01234\"\n",
    "validate_number(valid_number)\n",
    "validate_number(invalid_number)\n"
   ]
  },
  {
   "cell_type": "markdown",
   "metadata": {},
   "source": [
    "### Conclusion:\n",
    "\n",
    "First Pattern (r\"\\d+\") matches any sequence of digits, including those with leading zeros.\n",
    "\n",
    "Second Pattern (r\"^(?!0)\\d+$\") is designed to match numbers that don’t start with a zero.\n",
    "\n",
    "Third Pattern (rf\"{username_regex}@{domain_regex}\") helps validate email addresses.\n",
    "\n",
    "Fourth Example demonstrates how lazy quantifiers work in regular expressions to match as little as possible.\n",
    "\n",
    "**This approach provides flexibility for both number and email validation, while also showing how to fine-tune patterns for specific use cases.**"
   ]
  }
 ],
 "metadata": {
  "kernelspec": {
   "display_name": "Python 3",
   "language": "python",
   "name": "python3"
  },
  "language_info": {
   "codemirror_mode": {
    "name": "ipython",
    "version": 3
   },
   "file_extension": ".py",
   "mimetype": "text/x-python",
   "name": "python",
   "nbconvert_exporter": "python",
   "pygments_lexer": "ipython3",
   "version": "3.12.4"
  }
 },
 "nbformat": 4,
 "nbformat_minor": 2
}
